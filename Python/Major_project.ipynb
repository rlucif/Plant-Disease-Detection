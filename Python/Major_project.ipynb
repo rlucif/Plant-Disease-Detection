{
 "cells": [
  {
   "cell_type": "code",
   "execution_count": null,
   "metadata": {
    "colab": {
     "base_uri": "https://localhost:8080/"
    },
    "id": "VbQ_b8kn8942",
    "outputId": "c99751cd-c9b1-4f70-c592-376760ae7bc6"
   },
   "outputs": [
    {
     "name": "stdout",
     "output_type": "stream",
     "text": [
      "Looking in indexes: https://pypi.org/simple, https://us-python.pkg.dev/colab-wheels/public/simple/\n",
      "Collecting Augmentor\n",
      "  Downloading Augmentor-0.2.10-py2.py3-none-any.whl (38 kB)\n",
      "Requirement already satisfied: tqdm>=4.9.0 in /usr/local/lib/python3.8/dist-packages (from Augmentor) (4.64.1)\n",
      "Requirement already satisfied: future>=0.16.0 in /usr/local/lib/python3.8/dist-packages (from Augmentor) (0.16.0)\n",
      "Requirement already satisfied: Pillow>=5.2.0 in /usr/local/lib/python3.8/dist-packages (from Augmentor) (7.1.2)\n",
      "Requirement already satisfied: numpy>=1.11.0 in /usr/local/lib/python3.8/dist-packages (from Augmentor) (1.21.6)\n",
      "Installing collected packages: Augmentor\n",
      "Successfully installed Augmentor-0.2.10\n"
     ]
    }
   ],
   "source": [
    "pip install Augmentor"
   ]
  },
  {
   "cell_type": "code",
   "execution_count": null,
   "metadata": {
    "id": "eb4uCD6C9e0M"
   },
   "outputs": [],
   "source": [
    "import Augmentor"
   ]
  },
  {
   "cell_type": "code",
   "execution_count": null,
   "metadata": {
    "colab": {
     "base_uri": "https://localhost:8080/"
    },
    "id": "LaqvP3jL9jNE",
    "outputId": "aaee2c75-a2e8-484f-bd1e-2f7011c5aa73"
   },
   "outputs": [
    {
     "name": "stdout",
     "output_type": "stream",
     "text": [
      "Initialised with 238 image(s) found.\n",
      "Output directory set to /content/drive/MyDrive/Project/output."
     ]
    }
   ],
   "source": [
    "p = Augmentor.Pipeline(\"/content/drive/MyDrive/Project/Wheat Disease\", output_directory=\"/content/drive/MyDrive/Project/output\")"
   ]
  },
  {
   "cell_type": "code",
   "execution_count": null,
   "metadata": {
    "colab": {
     "base_uri": "https://localhost:8080/"
    },
    "id": "XjT111w093Lu",
    "outputId": "402d73d9-3f5b-4f71-e35c-600ecaa9406c"
   },
   "outputs": [
    {
     "name": "stderr",
     "output_type": "stream",
     "text": [
      "Processing <PIL.Image.Image image mode=RGB size=224x224 at 0x7F55E44F03D0>: 100%|██████████| 500/500 [00:09<00:00, 52.07 Samples/s]\n"
     ]
    }
   ],
   "source": [
    "p.rotate(probability=0.7, max_left_rotation=10, max_right_rotation=10)\n",
    "p.zoom(probability=0.3, min_factor=1.1, max_factor=1.6)\n",
    "p.sample(500)"
   ]
  },
  {
   "cell_type": "code",
   "execution_count": null,
   "metadata": {
    "id": "1U17iJkX-QMv"
   },
   "outputs": [],
   "source": [
    "import pathlib\n",
    "import tensorflow as tf\n",
    "data_dir = pathlib.Path('/content/drive/MyDrive/Project/output')\n",
    "img_height=224\n",
    "img_width=224"
   ]
  },
  {
   "cell_type": "code",
   "execution_count": null,
   "metadata": {
    "colab": {
     "base_uri": "https://localhost:8080/"
    },
    "id": "4wR186ng_Bav",
    "outputId": "a99cc82e-ecb0-49cb-fd2d-42fc2ec406cd"
   },
   "outputs": [
    {
     "name": "stdout",
     "output_type": "stream",
     "text": [
      "Found 3500 files belonging to 4 classes.\n",
      "Using 2800 files for training.\n"
     ]
    }
   ],
   "source": [
    "train_ds = tf.keras.utils.image_dataset_from_directory(\n",
    "  data_dir,\n",
    "  validation_split=0.2,\n",
    "  subset=\"training\",\n",
    "  seed=123,\n",
    "  image_size=(img_height, img_width),\n",
    "  batch_size=8)"
   ]
  },
  {
   "cell_type": "code",
   "execution_count": null,
   "metadata": {
    "colab": {
     "base_uri": "https://localhost:8080/"
    },
    "id": "6aaJ-6J7_FfG",
    "outputId": "df254734-c06c-4e3b-b3fe-4c5183470275"
   },
   "outputs": [
    {
     "name": "stdout",
     "output_type": "stream",
     "text": [
      "Found 3500 files belonging to 4 classes.\n",
      "Using 700 files for validation.\n"
     ]
    }
   ],
   "source": [
    "val_ds = tf.keras.utils.image_dataset_from_directory(\n",
    "  data_dir,\n",
    "  validation_split=0.2,\n",
    "  subset=\"validation\",\n",
    "  seed=123,\n",
    "  image_size=(img_height, img_width),\n",
    "  batch_size=8)"
   ]
  },
  {
   "cell_type": "code",
   "execution_count": null,
   "metadata": {
    "id": "71doZNee_Mc3"
   },
   "outputs": [],
   "source": [
    "normalization_layer = tf.keras.layers.Rescaling(1./255)"
   ]
  },
  {
   "cell_type": "code",
   "execution_count": null,
   "metadata": {
    "colab": {
     "base_uri": "https://localhost:8080/"
    },
    "id": "S5h9yCRW_Phv",
    "outputId": "cc18e914-bd53-43f8-f526-a67e997a6528"
   },
   "outputs": [
    {
     "name": "stderr",
     "output_type": "stream",
     "text": [
      "WARNING:tensorflow:From /usr/local/lib/python3.8/dist-packages/tensorflow/python/autograph/pyct/static_analysis/liveness.py:83: Analyzer.lamba_check (from tensorflow.python.autograph.pyct.static_analysis.liveness) is deprecated and will be removed after 2023-09-23.\n",
      "Instructions for updating:\n",
      "Lambda fuctions will be no more assumed to be used in the statement where they are used, or at least in the same block. https://github.com/tensorflow/tensorflow/issues/56089\n"
     ]
    },
    {
     "name": "stdout",
     "output_type": "stream",
     "text": [
      "0.0 1.0\n"
     ]
    }
   ],
   "source": [
    "import numpy as np\n",
    "normalized_ds = train_ds. map (lambda x, y: (normalization_layer(x), y) )\n",
    "image_batch, labels_batch = next(iter (normalized_ds))\n",
    "first_image = image_batch[0]\n",
    "print(np.min(first_image) , np.max(first_image))\n"
   ]
  },
  {
   "cell_type": "code",
   "execution_count": null,
   "metadata": {
    "id": "ItQ4vRXF_Tes"
   },
   "outputs": [],
   "source": [
    "AUTOTUNE = tf.data. AUTOTUNE\n",
    "train_ds = train_ds.cache().shuffle(1000).prefetch(buffer_size=AUTOTUNE)\n",
    "val_ds = val_ds.cache().prefetch(buffer_size=AUTOTUNE)\n"
   ]
  },
  {
   "cell_type": "code",
   "execution_count": null,
   "metadata": {
    "colab": {
     "base_uri": "https://localhost:8080/"
    },
    "id": "vx2vZFDM_gEe",
    "outputId": "9f14751c-d335-47fc-ae18-fe31b95167ad"
   },
   "outputs": [
    {
     "name": "stdout",
     "output_type": "stream",
     "text": [
      "Downloading data from https://storage.googleapis.com/tensorflow/keras-applications/vgg19/vgg19_weights_tf_dim_ordering_tf_kernels_notop.h5\n",
      "80134624/80134624 [==============================] - 3s 0us/step\n"
     ]
    }
   ],
   "source": [
    "from tensorflow.keras.applications import VGG19\n",
    "from tensorflow.keras.models import Model\n",
    "from keras.layers import GlobalAveragePooling2D, Flatten, BatchNormalization, Dense, Dropout, Conv2D\n",
    "from tensorflow.keras.layers import MaxPooling2D, GlobalAveragePooling2D\n",
    "base_model = VGG19(\n",
    "                     input_shape=(224, 224, 3),\n",
    "                     weights='imagenet',\n",
    "                     include_top=False)\n",
    "\n",
    "for layer in base_model.layers[:10]:\n",
    "     layer.trainable = False\n",
    "x = base_model.output\n",
    "x = GlobalAveragePooling2D()(x)\n",
    "x = Dense(512, activation = 'relu')(x)\n",
    "x = Dropout(0.4)(x)\n",
    "predictions = Dense(4, activation= 'softmax')(x)\n",
    "model1 = Model (inputs=base_model.inputs, outputs=predictions)\n"
   ]
  },
  {
   "cell_type": "code",
   "execution_count": null,
   "metadata": {
    "colab": {
     "base_uri": "https://localhost:8080/"
    },
    "id": "qd2KgzzE_mpz",
    "outputId": "20ca5b85-a6ee-4ec4-b5b5-440e96bc9b16"
   },
   "outputs": [
    {
     "name": "stdout",
     "output_type": "stream",
     "text": [
      "Downloading data from https://storage.googleapis.com/tensorflow/keras-applications/mobilenet_v2/mobilenet_v2_weights_tf_dim_ordering_tf_kernels_1.0_224_no_top.h5\n",
      "9406464/9406464 [==============================] - 0s 0us/step\n"
     ]
    }
   ],
   "source": [
    "from tensorflow.keras.applications import MobileNetV2\n",
    "from tensorflow.keras.models import Model\n",
    "from tensorflow.keras.layers import MaxPooling2D, GlobalAveragePooling2D\n",
    "base_model = MobileNetV2(\n",
    "                     input_shape=(224, 224, 3),\n",
    "                     weights='imagenet',\n",
    "                     include_top=False)\n",
    "\n",
    "for layer in base_model.layers[:10]:\n",
    "     layer.trainable = False\n",
    "x = base_model.output\n",
    "x = GlobalAveragePooling2D()(x)\n",
    "x = Dense(512, activation = 'relu')(x)\n",
    "x = Dropout(0.4)(x)\n",
    "predictions = Dense(4, activation= 'softmax')(x)\n",
    "model2 = Model (inputs=base_model.inputs, outputs=predictions)\n"
   ]
  },
  {
   "cell_type": "code",
   "execution_count": null,
   "metadata": {
    "colab": {
     "base_uri": "https://localhost:8080/"
    },
    "id": "qnspeFlr_slJ",
    "outputId": "9e51af8a-beec-4b32-a8a5-702e9f6f39ea"
   },
   "outputs": [
    {
     "name": "stdout",
     "output_type": "stream",
     "text": [
      "Downloading data from https://storage.googleapis.com/tensorflow/keras-applications/inception_v3/inception_v3_weights_tf_dim_ordering_tf_kernels_notop.h5\n",
      "87910968/87910968 [==============================] - 3s 0us/step\n"
     ]
    }
   ],
   "source": [
    "from tensorflow.keras.applications import InceptionV3\n",
    "from tensorflow.keras.models import Model\n",
    "from tensorflow.keras.layers import MaxPooling2D, GlobalAveragePooling2D\n",
    "base_model = InceptionV3(\n",
    "                     input_shape=(224, 224, 3),\n",
    "                     weights='imagenet',\n",
    "                     include_top=False)\n",
    "\n",
    "for layer in base_model.layers[:10]:\n",
    "     layer.trainable = False\n",
    "x = base_model.output\n",
    "x = GlobalAveragePooling2D()(x)\n",
    "x = Dense(512, activation = 'relu')(x)\n",
    "x = Dropout(0.4)(x)\n",
    "predictions = Dense(4, activation= 'softmax')(x)\n",
    "model3 = Model (inputs=base_model.inputs, outputs=predictions)\n"
   ]
  },
  {
   "cell_type": "code",
   "execution_count": null,
   "metadata": {
    "id": "tnedmLB5_wwK"
   },
   "outputs": [],
   "source": [
    "from tensorflow.keras.callbacks import ModelCheckpoint\n",
    "model_filepath = \"/content/drive/MyDrive/Project/model-{epoch:02d}-{val_accuracy:4f}.h5\"\n",
    "checkpoint = ModelCheckpoint(\n",
    "filepath = model_filepath,\n",
    "monitor = 'val_accuracy',\n",
    "mode = 'max',\n",
    "save_best_only = True,\n",
    "verbose = 1\n",
    ")"
   ]
  },
  {
   "cell_type": "code",
   "execution_count": null,
   "metadata": {
    "id": "9YYGodAO_1cO"
   },
   "outputs": [],
   "source": [
    "model1.compile(optimizer='adam',loss=tf.losses.SparseCategoricalCrossentropy(from_logits=False),metrics=['accuracy'])\n"
   ]
  },
  {
   "cell_type": "code",
   "execution_count": null,
   "metadata": {
    "id": "4YKZ12NM_5le"
   },
   "outputs": [],
   "source": [
    "model2.compile(optimizer='adam',loss=tf.losses.SparseCategoricalCrossentropy(from_logits=False),metrics=['accuracy'])\n"
   ]
  },
  {
   "cell_type": "code",
   "execution_count": null,
   "metadata": {
    "id": "Ht46Gbtr_8Cn"
   },
   "outputs": [],
   "source": [
    "model3.compile(optimizer='adam',loss=tf.losses.SparseCategoricalCrossentropy(from_logits=False),metrics=['accuracy'])\n"
   ]
  },
  {
   "cell_type": "code",
   "execution_count": null,
   "metadata": {
    "id": "gul_ICK1AQP9"
   },
   "outputs": [],
   "source": []
  },
  {
   "cell_type": "code",
   "execution_count": null,
   "metadata": {
    "colab": {
     "base_uri": "https://localhost:8080/"
    },
    "id": "ZZOuhDlL_-Bt",
    "outputId": "06da34b4-8b9f-4e8e-f1f3-6b99b619b7c4"
   },
   "outputs": [
    {
     "name": "stdout",
     "output_type": "stream",
     "text": [
      "Epoch 1/5\n",
      "350/350 [==============================] - ETA: 0s - loss: 1.7468 - accuracy: 0.3371\n",
      "Epoch 1: val_accuracy improved from -inf to 0.36714, saving model to /content/drive/MyDrive/Project/model-01-0.367143.h5\n",
      "350/350 [==============================] - 569s 409ms/step - loss: 1.7468 - accuracy: 0.3371 - val_loss: 1.3468 - val_accuracy: 0.3671\n",
      "Epoch 2/5\n",
      "350/350 [==============================] - ETA: 0s - loss: 1.8266 - accuracy: 0.3389\n",
      "Epoch 2: val_accuracy did not improve from 0.36714\n",
      "350/350 [==============================] - 46s 130ms/step - loss: 1.8266 - accuracy: 0.3389 - val_loss: 1.3484 - val_accuracy: 0.3671\n",
      "Epoch 3/5\n",
      "350/350 [==============================] - ETA: 0s - loss: 1.3550 - accuracy: 0.3482\n",
      "Epoch 3: val_accuracy did not improve from 0.36714\n",
      "350/350 [==============================] - 44s 126ms/step - loss: 1.3550 - accuracy: 0.3482 - val_loss: 1.3480 - val_accuracy: 0.3671\n",
      "Epoch 4/5\n",
      "350/350 [==============================] - ETA: 0s - loss: 1.3552 - accuracy: 0.3482\n",
      "Epoch 4: val_accuracy did not improve from 0.36714\n",
      "350/350 [==============================] - 50s 142ms/step - loss: 1.3552 - accuracy: 0.3482 - val_loss: 1.3478 - val_accuracy: 0.3671\n",
      "Epoch 5/5\n",
      "350/350 [==============================] - ETA: 0s - loss: 1.3549 - accuracy: 0.3482\n",
      "Epoch 5: val_accuracy did not improve from 0.36714\n",
      "350/350 [==============================] - 45s 128ms/step - loss: 1.3549 - accuracy: 0.3482 - val_loss: 1.3470 - val_accuracy: 0.3671\n"
     ]
    }
   ],
   "source": [
    "history1=model1.fit(\n",
    "  train_ds,\n",
    "  validation_data=val_ds,\n",
    "  epochs=5, callbacks=[checkpoint])"
   ]
  },
  {
   "cell_type": "code",
   "execution_count": null,
   "metadata": {
    "colab": {
     "base_uri": "https://localhost:8080/",
     "height": 545
    },
    "id": "W6YfsGi-AB28",
    "outputId": "d508cd86-c877-4638-d5fb-1ca1f4b6f45f"
   },
   "outputs": [
    {
     "data": {
      "image/png": "[encoded data removed]",
      "text/plain": [
       "<Figure size 432x288 with 1 Axes>"
      ]
     },
     "metadata": {
      "needs_background": "light"
     },
     "output_type": "display_data"
    },
    {
     "data": {
      "image/png": "[encoded data removed]",
      "text/plain": [
       "<Figure size 432x288 with 1 Axes>"
      ]
     },
     "metadata": {
      "needs_background": "light"
     },
     "output_type": "display_data"
    }
   ],
   "source": [
    "import matplotlib.pyplot as plt\n",
    "acc = history1.history['accuracy']\n",
    "val_acc = history1.history['val_accuracy']\n",
    "loss = history1. history['loss']\n",
    "val_loss = history1.history['val_loss']\n",
    "\n",
    "epochs = range(len(acc))\n",
    "\n",
    "plt.plot(epochs, acc, 'r', label= 'Training accuracy')\n",
    "plt.plot(epochs, val_acc, 'b', label= 'Validation accuracy')\n",
    "plt. title('Training and validation accuracy')\n",
    "plt. legend()\n",
    "plt. figure()\n",
    "\n",
    "plt.plot(epochs, loss, 'r', label= 'Training Loss')\n",
    "plt.plot(epochs, val_loss, 'b', label= 'Validation Loss')\n",
    "plt.title('Training and validation loss')\n",
    "plt. legend\n",
    "plt.show()\n"
   ]
  },
  {
   "cell_type": "code",
   "execution_count": null,
   "metadata": {
    "id": "xebxFrEME2mw"
   },
   "outputs": [],
   "source": []
  },
  {
   "cell_type": "code",
   "execution_count": null,
   "metadata": {
    "colab": {
     "base_uri": "https://localhost:8080/"
    },
    "id": "4lBaVTcX4ZCF",
    "outputId": "6804b9d2-408c-413a-c5c4-c945c75b234a"
   },
   "outputs": [
    {
     "name": "stdout",
     "output_type": "stream",
     "text": [
      "Epoch 1/5\n",
      "349/350 [============================>.] - ETA: 0s - loss: 0.7999 - accuracy: 0.7120\n",
      "Epoch 1: val_accuracy improved from 0.36714 to 0.38429, saving model to /content/drive/MyDrive/Project/model-01-0.384286.h5\n",
      "350/350 [==============================] - 44s 50ms/step - loss: 0.7992 - accuracy: 0.7121 - val_loss: 6.4820 - val_accuracy: 0.3843\n",
      "Epoch 2/5\n",
      "350/350 [==============================] - ETA: 0s - loss: 0.4483 - accuracy: 0.8504\n",
      "Epoch 2: val_accuracy improved from 0.38429 to 0.41286, saving model to /content/drive/MyDrive/Project/model-02-0.412857.h5\n",
      "350/350 [==============================] - 16s 47ms/step - loss: 0.4483 - accuracy: 0.8504 - val_loss: 8.4397 - val_accuracy: 0.4129\n",
      "Epoch 3/5\n",
      "349/350 [============================>.] - ETA: 0s - loss: 0.2848 - accuracy: 0.9140\n",
      "Epoch 3: val_accuracy improved from 0.41286 to 0.48429, saving model to /content/drive/MyDrive/Project/model-03-0.484286.h5\n",
      "350/350 [==============================] - 16s 47ms/step - loss: 0.2842 - accuracy: 0.9143 - val_loss: 11.1000 - val_accuracy: 0.4843\n",
      "Epoch 4/5\n",
      "234/350 [===================>..........] - ETA: 4s - loss: 0.3332 - accuracy: 0.8926"
     ]
    }
   ],
   "source": [
    "history2=model2.fit(\n",
    "  train_ds,\n",
    "  validation_data=val_ds,\n",
    "  epochs=5, callbacks=[checkpoint])"
   ]
  },
  {
   "cell_type": "code",
   "execution_count": null,
   "metadata": {
    "colab": {
     "base_uri": "https://localhost:8080/",
     "height": 545
    },
    "id": "5ZMM1avm5WBB",
    "outputId": "f5643997-fe17-4fb3-d40a-5341d6a37ca7"
   },
   "outputs": [
    {
     "data": {
      "image/png": "[encoded data removed]",
      "text/plain": [
       "<Figure size 432x288 with 1 Axes>"
      ]
     },
     "metadata": {
      "needs_background": "light"
     },
     "output_type": "display_data"
    },
    {
     "data": {
      "image/png": "[encoded data removed]",
      "text/plain": [
       "<Figure size 432x288 with 1 Axes>"
      ]
     },
     "metadata": {
      "needs_background": "light"
     },
     "output_type": "display_data"
    }
   ],
   "source": [
    "import matplotlib.pyplot as plt\n",
    "acc = history2.history['accuracy']\n",
    "val_acc = history2.history['val_accuracy']\n",
    "loss = history2.history['loss']\n",
    "val_loss = history2.history['val_loss']\n",
    "\n",
    "epochs = range(len(acc))\n",
    "\n",
    "plt.plot(epochs, acc, 'r', label= 'Training accuracy')\n",
    "plt.plot(epochs, val_acc, 'b', label= 'Validation accuracy')\n",
    "plt. title('Training and validation accuracy')\n",
    "plt. legend()\n",
    "plt. figure()\n",
    "\n",
    "plt.plot(epochs, loss, 'r', label= 'Training Loss')\n",
    "plt.plot(epochs, val_loss, 'b', label= 'Validation Loss')\n",
    "plt.title('Training and validation loss')\n",
    "plt. legend\n",
    "plt.show()\n"
   ]
  },
  {
   "cell_type": "code",
   "execution_count": null,
   "metadata": {
    "id": "w2X3I2_sFHTo"
   },
   "outputs": [],
   "source": []
  },
  {
   "cell_type": "code",
   "execution_count": null,
   "metadata": {
    "colab": {
     "base_uri": "https://localhost:8080/"
    },
    "id": "Abon1bfo5tMc",
    "outputId": "0700d8d4-b2ee-4812-8a39-be946ddcc8ab"
   },
   "outputs": [
    {
     "name": "stdout",
     "output_type": "stream",
     "text": [
      "Epoch 1/5\n",
      "300/300 [==============================] - ETA: 0s - loss: 1.2433 - accuracy: 0.4554\n",
      "Epoch 1: val_accuracy did not improve from 0.52500\n",
      "300/300 [==============================] - 61s 89ms/step - loss: 1.2433 - accuracy: 0.4554 - val_loss: 1566.6561 - val_accuracy: 0.3617\n",
      "Epoch 2/5\n",
      "300/300 [==============================] - ETA: 0s - loss: 0.8625 - accuracy: 0.6604\n",
      "Epoch 2: val_accuracy improved from 0.52500 to 0.61667, saving model to /content/drive/MyDrive/Project/model-02-0.616667.h5\n",
      "300/300 [==============================] - 28s 93ms/step - loss: 0.8625 - accuracy: 0.6604 - val_loss: 1.1063 - val_accuracy: 0.6167\n",
      "Epoch 3/5\n",
      "300/300 [==============================] - ETA: 0s - loss: 0.7345 - accuracy: 0.7483\n",
      "Epoch 3: val_accuracy did not improve from 0.61667\n",
      "300/300 [==============================] - 26s 87ms/step - loss: 0.7345 - accuracy: 0.7483 - val_loss: 1.0855 - val_accuracy: 0.5283\n",
      "Epoch 4/5\n",
      "300/300 [==============================] - ETA: 0s - loss: 0.5333 - accuracy: 0.8233\n",
      "Epoch 4: val_accuracy improved from 0.61667 to 0.63000, saving model to /content/drive/MyDrive/Project/model-04-0.630000.h5\n",
      "300/300 [==============================] - 27s 89ms/step - loss: 0.5333 - accuracy: 0.8233 - val_loss: 1.3275 - val_accuracy: 0.6300\n",
      "Epoch 5/5\n",
      "300/300 [==============================] - ETA: 0s - loss: 0.3706 - accuracy: 0.8788\n",
      "Epoch 5: val_accuracy improved from 0.63000 to 0.78167, saving model to /content/drive/MyDrive/Project/model-05-0.781667.h5\n",
      "300/300 [==============================] - 28s 93ms/step - loss: 0.3706 - accuracy: 0.8788 - val_loss: 0.6765 - val_accuracy: 0.7817\n"
     ]
    }
   ],
   "source": [
    "history3=model3.fit(\n",
    "  train_ds,\n",
    "  validation_data=val_ds,\n",
    "  epochs=5, callbacks=[checkpoint])"
   ]
  },
  {
   "cell_type": "code",
   "execution_count": null,
   "metadata": {
    "colab": {
     "base_uri": "https://localhost:8080/",
     "height": 545
    },
    "id": "bQaJOzkV578O",
    "outputId": "02f32fa8-54fe-4570-9049-df460a7c5485"
   },
   "outputs": [
    {
     "data": {
      "image/png": "[encoded data removed]",
      "text/plain": [
       "<Figure size 432x288 with 1 Axes>"
      ]
     },
     "metadata": {
      "needs_background": "light"
     },
     "output_type": "display_data"
    },
    {
     "data": {
      "image/png": "[encoded data removed]",
      "text/plain": [
       "<Figure size 432x288 with 1 Axes>"
      ]
     },
     "metadata": {
      "needs_background": "light"
     },
     "output_type": "display_data"
    }
   ],
   "source": [
    "import matplotlib.pyplot as plt\n",
    "acc = history3.history['accuracy']\n",
    "val_acc = history3.history['val_accuracy']\n",
    "loss = history3.history['loss']\n",
    "val_loss = history3.history['val_loss']\n",
    "\n",
    "epochs = range(len(acc))\n",
    "\n",
    "plt.plot(epochs, acc, 'r', label= 'Training accuracy')\n",
    "plt.plot(epochs, val_acc, 'b', label= 'Validation accuracy')\n",
    "plt. title('Training and validation accuracy')\n",
    "plt. legend()\n",
    "plt. figure()\n",
    "\n",
    "plt.plot(epochs, loss, 'r', label= 'Training Loss')\n",
    "plt.plot(epochs, val_loss, 'b', label= 'Validation Loss')\n",
    "plt.title('Training and validation loss')\n",
    "plt. legend\n",
    "plt.show()"
   ]
  },
  {
   "cell_type": "code",
   "execution_count": null,
   "metadata": {
    "id": "uVc-uqeQ69m0"
   },
   "outputs": [],
   "source": [
    "from tensorflow.keras.models import Model, load_model\n",
    "from tensorflow.keras.layers import Input, Average\n",
    "model_1 = load_model('/content/drive/MyDrive/Project/model-01-0.360000.h5')\n",
    "model_1 = Model(inputs=model_1.inputs,\n",
    "                 outputs=model_1.outputs,\n",
    "                 name= 'name_of_model_1')\n",
    "\n",
    "model_2 = load_model('/content/drive/MyDrive/Project/model-04-0.525000.h5')\n",
    "model_2 = Model(inputs=model_2.inputs,\n",
    "                 outputs=model_2.outputs,\n",
    "                 name= 'name_of_model_2')\n",
    "\n",
    "model_3 = load_model('/content/drive/MyDrive/Project/model-05-0.781667.h5')\n",
    "model_3 = Model(inputs=model_3.inputs,\n",
    "                 outputs=model_3.outputs,\n",
    "                 name= 'name_of_model_3')\n",
    "\n",
    "models = [model_1, model_2, model_3]\n",
    "model_input = Input(shape=(224, 224, 3))\n",
    "model_outputs = [model(model_input) for model in models]\n",
    "ensemble_output = Average()(model_outputs)\n",
    "ensemble_model = Model(inputs=model_input, outputs=ensemble_output, name= 'ensemble')\n",
    "\n"
   ]
  },
  {
   "cell_type": "code",
   "execution_count": null,
   "metadata": {
    "id": "7xxxadyG-xVW"
   },
   "outputs": [],
   "source": [
    "ensemble_model.compile(optimizer='adam',loss=tf.losses.SparseCategoricalCrossentropy(from_logits=False),metrics=['accuracy'])"
   ]
  },
  {
   "cell_type": "code",
   "execution_count": null,
   "metadata": {
    "colab": {
     "base_uri": "https://localhost:8080/"
    },
    "id": "Y_YLzOYR-80O",
    "outputId": "aeaa4cfe-d23f-4776-975a-51a6a14d6adb"
   },
   "outputs": [
    {
     "name": "stdout",
     "output_type": "stream",
     "text": [
      "Epoch 1/5\n",
      "300/300 [==============================] - ETA: 0s - loss: 0.6601 - accuracy: 0.7471\n",
      "Epoch 1: val_accuracy did not improve from 0.78167\n",
      "300/300 [==============================] - 70s 232ms/step - loss: 0.6601 - accuracy: 0.7471 - val_loss: 1.9133 - val_accuracy: 0.2683\n",
      "Epoch 2/5\n",
      "300/300 [==============================] - ETA: 0s - loss: 0.6709 - accuracy: 0.7779\n",
      "Epoch 2: val_accuracy did not improve from 0.78167\n",
      "300/300 [==============================] - 73s 242ms/step - loss: 0.6709 - accuracy: 0.7779 - val_loss: 1.1694 - val_accuracy: 0.3900\n",
      "Epoch 3/5\n",
      "300/300 [==============================] - ETA: 0s - loss: 0.6890 - accuracy: 0.7479\n",
      "Epoch 3: val_accuracy did not improve from 0.78167\n",
      "300/300 [==============================] - 69s 230ms/step - loss: 0.6890 - accuracy: 0.7479 - val_loss: 0.7576 - val_accuracy: 0.7667\n",
      "Epoch 4/5\n",
      "300/300 [==============================] - ETA: 0s - loss: 0.7025 - accuracy: 0.7271\n",
      "Epoch 4: val_accuracy did not improve from 0.78167\n",
      "300/300 [==============================] - 69s 230ms/step - loss: 0.7025 - accuracy: 0.7271 - val_loss: 0.9822 - val_accuracy: 0.5150\n",
      "Epoch 5/5\n",
      "300/300 [==============================] - ETA: 0s - loss: 0.8856 - accuracy: 0.5883\n",
      "Epoch 5: val_accuracy did not improve from 0.78167\n",
      "300/300 [==============================] - 73s 244ms/step - loss: 0.8856 - accuracy: 0.5883 - val_loss: 1.5167 - val_accuracy: 0.2933\n"
     ]
    }
   ],
   "source": [
    "history=ensemble_model.fit(\n",
    "  train_ds,\n",
    "  validation_data=val_ds,\n",
    "  epochs=5, callbacks=[checkpoint])"
   ]
  },
  {
   "cell_type": "code",
   "execution_count": null,
   "metadata": {
    "id": "PTM3Yg34rDrd"
   },
   "outputs": [],
   "source": []
  }
 ],
 "metadata": {
  "accelerator": "GPU",
  "colab": {
   "provenance": []
  },
  "gpuClass": "standard",
  "kernelspec": {
   "display_name": "Python 3 (ipykernel)",
   "language": "python",
   "name": "python3"
  },
  "language_info": {
   "codemirror_mode": {
    "name": "ipython",
    "version": 3
   },
   "file_extension": ".py",
   "mimetype": "text/x-python",
   "name": "python",
   "nbconvert_exporter": "python",
   "pygments_lexer": "ipython3",
   "version": "3.9.13"
  }
 },
 "nbformat": 4,
 "nbformat_minor": 1
}
